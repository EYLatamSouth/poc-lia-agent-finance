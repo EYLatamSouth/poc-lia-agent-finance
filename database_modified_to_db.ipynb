{
 "cells": [
  {
   "cell_type": "code",
   "execution_count": 1,
   "id": "4e3b41c1",
   "metadata": {},
   "outputs": [
    {
     "data": {
      "text/plain": [
       "True"
      ]
     },
     "execution_count": 1,
     "metadata": {},
     "output_type": "execute_result"
    }
   ],
   "source": [
    "from sqlalchemy import create_engine\n",
    "from dotenv import load_dotenv\n",
    "from langchain_community.utilities import SQLDatabase\n",
    "from langchain_community.agent_toolkits.sql.toolkit import SQLDatabaseToolkit\n",
    "import pandas as pd\n",
    "import time\n",
    "\n",
    "load_dotenv()"
   ]
  },
  {
   "cell_type": "code",
   "execution_count": 3,
   "id": "b2fe34fe",
   "metadata": {},
   "outputs": [],
   "source": [
    "table_names = [\"Trades Receivable\",\"Trades Payable\", \"Working Capital\"]\n",
    "tables = {}\n",
    "for tab in table_names:\n",
    "    df= pd.read_excel(\"inputs/Databases/WCM_modified.xlsx\", sheet_name=tab)\n",
    "    for col in df.columns:\n",
    "        if 'id' in col:\n",
    "            df[col] = df[col].astype(str)\n",
    "    new_tab = tab.lower().replace(\" \",\"_\")\n",
    "    df.to_excel(f\"inputs/Databases/versao_demo/{new_tab}.xlsx\")\n",
    "    tables[new_tab] = df"
   ]
  },
  {
   "cell_type": "code",
   "execution_count": 6,
   "id": "f8ce9df7",
   "metadata": {},
   "outputs": [
    {
     "name": "stdout",
     "output_type": "stream",
     "text": [
      "id                        object\n",
      "id_trades                 object\n",
      "month_year        datetime64[ns]\n",
      "country                   object\n",
      "trades_payable           float64\n",
      "overdue                  float64\n",
      "dpo                      float64\n",
      "tr_ico_to_pay            float64\n",
      "due_interval              object\n",
      "dtype: object\n"
     ]
    }
   ],
   "source": [
    "print(tables[\"trades_payable\"].dtypes)"
   ]
  },
  {
   "cell_type": "code",
   "execution_count": 4,
   "id": "f87a70a0",
   "metadata": {},
   "outputs": [
    {
     "data": {
      "text/html": [
       "<div>\n",
       "<style scoped>\n",
       "    .dataframe tbody tr th:only-of-type {\n",
       "        vertical-align: middle;\n",
       "    }\n",
       "\n",
       "    .dataframe tbody tr th {\n",
       "        vertical-align: top;\n",
       "    }\n",
       "\n",
       "    .dataframe thead th {\n",
       "        text-align: right;\n",
       "    }\n",
       "</style>\n",
       "<table border=\"1\" class=\"dataframe\">\n",
       "  <thead>\n",
       "    <tr style=\"text-align: right;\">\n",
       "      <th></th>\n",
       "      <th>id</th>\n",
       "      <th>id_trades</th>\n",
       "      <th>month_year</th>\n",
       "      <th>country</th>\n",
       "      <th>trades_receivable</th>\n",
       "      <th>overdue</th>\n",
       "      <th>dso</th>\n",
       "      <th>sales</th>\n",
       "      <th>cei</th>\n",
       "      <th>art</th>\n",
       "      <th>due_interval</th>\n",
       "    </tr>\n",
       "  </thead>\n",
       "  <tbody>\n",
       "    <tr>\n",
       "      <th>0</th>\n",
       "      <td>1</td>\n",
       "      <td>202405011</td>\n",
       "      <td>2024-05-01</td>\n",
       "      <td>Brasil</td>\n",
       "      <td>244592.88</td>\n",
       "      <td>72456.27</td>\n",
       "      <td>99.5</td>\n",
       "      <td>267281.99</td>\n",
       "      <td>0.89</td>\n",
       "      <td>110.27</td>\n",
       "      <td>1-90 Days</td>\n",
       "    </tr>\n",
       "    <tr>\n",
       "      <th>1</th>\n",
       "      <td>2</td>\n",
       "      <td>202405012</td>\n",
       "      <td>2024-05-01</td>\n",
       "      <td>Argentina</td>\n",
       "      <td>186457.45</td>\n",
       "      <td>6479.17</td>\n",
       "      <td>32.6</td>\n",
       "      <td>198693.25</td>\n",
       "      <td>0.96</td>\n",
       "      <td>34.12</td>\n",
       "      <td>Not Due</td>\n",
       "    </tr>\n",
       "    <tr>\n",
       "      <th>2</th>\n",
       "      <td>3</td>\n",
       "      <td>202405013</td>\n",
       "      <td>2024-05-01</td>\n",
       "      <td>Colombia</td>\n",
       "      <td>215411.34</td>\n",
       "      <td>8120.89</td>\n",
       "      <td>39.4</td>\n",
       "      <td>267274.03</td>\n",
       "      <td>0.56</td>\n",
       "      <td>42.31</td>\n",
       "      <td>Not Due</td>\n",
       "    </tr>\n",
       "    <tr>\n",
       "      <th>3</th>\n",
       "      <td>4</td>\n",
       "      <td>202405014</td>\n",
       "      <td>2024-05-01</td>\n",
       "      <td>Peru</td>\n",
       "      <td>163571.07</td>\n",
       "      <td>44496.47</td>\n",
       "      <td>76.6</td>\n",
       "      <td>168822.44</td>\n",
       "      <td>0.63</td>\n",
       "      <td>85.67</td>\n",
       "      <td>91-180 Days</td>\n",
       "    </tr>\n",
       "    <tr>\n",
       "      <th>4</th>\n",
       "      <td>5</td>\n",
       "      <td>202405015</td>\n",
       "      <td>2024-05-01</td>\n",
       "      <td>Chile</td>\n",
       "      <td>132761.53</td>\n",
       "      <td>11659.33</td>\n",
       "      <td>30.9</td>\n",
       "      <td>162979.40</td>\n",
       "      <td>0.54</td>\n",
       "      <td>29.60</td>\n",
       "      <td>1-90 Days</td>\n",
       "    </tr>\n",
       "  </tbody>\n",
       "</table>\n",
       "</div>"
      ],
      "text/plain": [
       "  id  id_trades month_year    country  trades_receivable   overdue   dso  \\\n",
       "0  1  202405011 2024-05-01     Brasil          244592.88  72456.27  99.5   \n",
       "1  2  202405012 2024-05-01  Argentina          186457.45   6479.17  32.6   \n",
       "2  3  202405013 2024-05-01   Colombia          215411.34   8120.89  39.4   \n",
       "3  4  202405014 2024-05-01       Peru          163571.07  44496.47  76.6   \n",
       "4  5  202405015 2024-05-01      Chile          132761.53  11659.33  30.9   \n",
       "\n",
       "       sales   cei     art due_interval  \n",
       "0  267281.99  0.89  110.27    1-90 Days  \n",
       "1  198693.25  0.96   34.12      Not Due  \n",
       "2  267274.03  0.56   42.31      Not Due  \n",
       "3  168822.44  0.63   85.67  91-180 Days  \n",
       "4  162979.40  0.54   29.60    1-90 Days  "
      ]
     },
     "execution_count": 4,
     "metadata": {},
     "output_type": "execute_result"
    }
   ],
   "source": [
    "tables[\"trades_receivable\"].head()"
   ]
  },
  {
   "cell_type": "code",
   "execution_count": 7,
   "id": "3c75b0a4",
   "metadata": {},
   "outputs": [],
   "source": [
    "df = tables[\"trades_receivable\"]\n",
    "df['overdue_ratio'] = df['overdue'] / df['trades_receivable']\n",
    "df.to_excel(f\"inputs/Databases/versao_demo/trades_receivable.xlsx\")"
   ]
  },
  {
   "cell_type": "code",
   "execution_count": 12,
   "id": "216afe39",
   "metadata": {},
   "outputs": [
    {
     "data": {
      "text/plain": [
       "array(['Brasil', 'Argentina', 'Colombia', 'Peru', 'Chile', 'Mexico',\n",
       "       'Vanuatu', 'Coreia do Sul', 'Namíbia', 'Ilhas Salomão', 'Guam',\n",
       "       'Ilhas Turcas e Caicos', 'Burquina Faso', 'Honduras', 'Granada',\n",
       "       'Dhekelia', 'Mali', 'Portugal', 'Papua-Nova Guiné', 'Malávi',\n",
       "       'Burundi', 'Congo-Kinshasa', 'Dinamarca', 'Senegal'], dtype=object)"
      ]
     },
     "execution_count": 12,
     "metadata": {},
     "output_type": "execute_result"
    }
   ],
   "source": [
    "tables[\"trades_receivable\"][\"country\"].unique()"
   ]
  },
  {
   "cell_type": "code",
   "execution_count": 8,
   "id": "27114940",
   "metadata": {},
   "outputs": [
    {
     "data": {
      "text/html": [
       "<div>\n",
       "<style scoped>\n",
       "    .dataframe tbody tr th:only-of-type {\n",
       "        vertical-align: middle;\n",
       "    }\n",
       "\n",
       "    .dataframe tbody tr th {\n",
       "        vertical-align: top;\n",
       "    }\n",
       "\n",
       "    .dataframe thead th {\n",
       "        text-align: right;\n",
       "    }\n",
       "</style>\n",
       "<table border=\"1\" class=\"dataframe\">\n",
       "  <thead>\n",
       "    <tr style=\"text-align: right;\">\n",
       "      <th></th>\n",
       "      <th>id</th>\n",
       "      <th>id_trades</th>\n",
       "      <th>month_year</th>\n",
       "      <th>country</th>\n",
       "      <th>trades_payable</th>\n",
       "      <th>overdue</th>\n",
       "      <th>dpo</th>\n",
       "      <th>tr_ico_to_pay</th>\n",
       "      <th>due_interval</th>\n",
       "    </tr>\n",
       "  </thead>\n",
       "  <tbody>\n",
       "    <tr>\n",
       "      <th>0</th>\n",
       "      <td>1</td>\n",
       "      <td>202405011</td>\n",
       "      <td>2024-05-01</td>\n",
       "      <td>Brasil</td>\n",
       "      <td>118690.22</td>\n",
       "      <td>38466.96</td>\n",
       "      <td>125.6</td>\n",
       "      <td>82228.29</td>\n",
       "      <td>1-90 Days</td>\n",
       "    </tr>\n",
       "    <tr>\n",
       "      <th>1</th>\n",
       "      <td>2</td>\n",
       "      <td>202405012</td>\n",
       "      <td>2024-05-01</td>\n",
       "      <td>Argentina</td>\n",
       "      <td>90279.29</td>\n",
       "      <td>2763.82</td>\n",
       "      <td>45.2</td>\n",
       "      <td>67390.82</td>\n",
       "      <td>Not Due</td>\n",
       "    </tr>\n",
       "    <tr>\n",
       "      <th>2</th>\n",
       "      <td>3</td>\n",
       "      <td>202405013</td>\n",
       "      <td>2024-05-01</td>\n",
       "      <td>Colombia</td>\n",
       "      <td>148144.95</td>\n",
       "      <td>32090.12</td>\n",
       "      <td>103.7</td>\n",
       "      <td>60477.78</td>\n",
       "      <td>Not Due</td>\n",
       "    </tr>\n",
       "    <tr>\n",
       "      <th>3</th>\n",
       "      <td>4</td>\n",
       "      <td>202405014</td>\n",
       "      <td>2024-05-01</td>\n",
       "      <td>Peru</td>\n",
       "      <td>93842.59</td>\n",
       "      <td>9010.86</td>\n",
       "      <td>67.4</td>\n",
       "      <td>57234.83</td>\n",
       "      <td>Not Due</td>\n",
       "    </tr>\n",
       "    <tr>\n",
       "      <th>4</th>\n",
       "      <td>5</td>\n",
       "      <td>202405015</td>\n",
       "      <td>2024-05-01</td>\n",
       "      <td>Chile</td>\n",
       "      <td>126152.85</td>\n",
       "      <td>23097.11</td>\n",
       "      <td>66.2</td>\n",
       "      <td>81335.94</td>\n",
       "      <td>91-180 Days</td>\n",
       "    </tr>\n",
       "  </tbody>\n",
       "</table>\n",
       "</div>"
      ],
      "text/plain": [
       "   id  id_trades month_year    country  trades_payable   overdue    dpo  \\\n",
       "0   1  202405011 2024-05-01     Brasil       118690.22  38466.96  125.6   \n",
       "1   2  202405012 2024-05-01  Argentina        90279.29   2763.82   45.2   \n",
       "2   3  202405013 2024-05-01   Colombia       148144.95  32090.12  103.7   \n",
       "3   4  202405014 2024-05-01       Peru        93842.59   9010.86   67.4   \n",
       "4   5  202405015 2024-05-01      Chile       126152.85  23097.11   66.2   \n",
       "\n",
       "   tr_ico_to_pay due_interval  \n",
       "0       82228.29    1-90 Days  \n",
       "1       67390.82      Not Due  \n",
       "2       60477.78      Not Due  \n",
       "3       57234.83      Not Due  \n",
       "4       81335.94  91-180 Days  "
      ]
     },
     "execution_count": 8,
     "metadata": {},
     "output_type": "execute_result"
    }
   ],
   "source": [
    "tables[\"trades_payable\"].head()"
   ]
  },
  {
   "cell_type": "code",
   "execution_count": 9,
   "id": "a28cbfb8",
   "metadata": {},
   "outputs": [
    {
     "data": {
      "text/html": [
       "<div>\n",
       "<style scoped>\n",
       "    .dataframe tbody tr th:only-of-type {\n",
       "        vertical-align: middle;\n",
       "    }\n",
       "\n",
       "    .dataframe tbody tr th {\n",
       "        vertical-align: top;\n",
       "    }\n",
       "\n",
       "    .dataframe thead th {\n",
       "        text-align: right;\n",
       "    }\n",
       "</style>\n",
       "<table border=\"1\" class=\"dataframe\">\n",
       "  <thead>\n",
       "    <tr style=\"text-align: right;\">\n",
       "      <th></th>\n",
       "      <th>id_trades</th>\n",
       "      <th>month_year</th>\n",
       "      <th>country</th>\n",
       "      <th>working_capital</th>\n",
       "      <th>due_interval</th>\n",
       "    </tr>\n",
       "  </thead>\n",
       "  <tbody>\n",
       "    <tr>\n",
       "      <th>0</th>\n",
       "      <td>202405011</td>\n",
       "      <td>2024-05-01</td>\n",
       "      <td>Brasil</td>\n",
       "      <td>125902.66</td>\n",
       "      <td>1-90 Days</td>\n",
       "    </tr>\n",
       "    <tr>\n",
       "      <th>1</th>\n",
       "      <td>202405012</td>\n",
       "      <td>2024-05-01</td>\n",
       "      <td>Argentina</td>\n",
       "      <td>96178.16</td>\n",
       "      <td>Not Due</td>\n",
       "    </tr>\n",
       "    <tr>\n",
       "      <th>2</th>\n",
       "      <td>202405013</td>\n",
       "      <td>2024-05-01</td>\n",
       "      <td>Colombia</td>\n",
       "      <td>67266.39</td>\n",
       "      <td>Not Due</td>\n",
       "    </tr>\n",
       "    <tr>\n",
       "      <th>3</th>\n",
       "      <td>202405014</td>\n",
       "      <td>2024-05-01</td>\n",
       "      <td>Peru</td>\n",
       "      <td>69728.48</td>\n",
       "      <td>91-180 Days</td>\n",
       "    </tr>\n",
       "    <tr>\n",
       "      <th>4</th>\n",
       "      <td>202405015</td>\n",
       "      <td>2024-05-01</td>\n",
       "      <td>Chile</td>\n",
       "      <td>6608.68</td>\n",
       "      <td>1-90 Days</td>\n",
       "    </tr>\n",
       "  </tbody>\n",
       "</table>\n",
       "</div>"
      ],
      "text/plain": [
       "   id_trades month_year    country  working_capital due_interval\n",
       "0  202405011 2024-05-01     Brasil        125902.66    1-90 Days\n",
       "1  202405012 2024-05-01  Argentina         96178.16      Not Due\n",
       "2  202405013 2024-05-01   Colombia         67266.39      Not Due\n",
       "3  202405014 2024-05-01       Peru         69728.48  91-180 Days\n",
       "4  202405015 2024-05-01      Chile          6608.68    1-90 Days"
      ]
     },
     "execution_count": 9,
     "metadata": {},
     "output_type": "execute_result"
    }
   ],
   "source": [
    "tables[\"working_capital\"].head()"
   ]
  },
  {
   "cell_type": "code",
   "execution_count": 4,
   "id": "b737431d",
   "metadata": {},
   "outputs": [],
   "source": [
    "# Bancos de dados\n",
    "db_name = \"db/aa-finance-predict.db\"\n",
    "engine = create_engine(f\"sqlite:///{db_name}\")"
   ]
  },
  {
   "cell_type": "code",
   "execution_count": 5,
   "id": "71ba28ad",
   "metadata": {},
   "outputs": [],
   "source": [
    "# # Adicionando tabelas ao db\n",
    "# for df_name in tables.keys():\n",
    "#     df = tables[df_name]\n",
    "#     for col in df.columns:\n",
    "#         if \"nnamed\" in col:\n",
    "#             df= df.drop(col, axis=1)\n",
    "#     df.to_sql(df_name, engine, index=False)"
   ]
  },
  {
   "cell_type": "code",
   "execution_count": 6,
   "id": "35f0cb53",
   "metadata": {},
   "outputs": [
    {
     "data": {
      "text/plain": [
       "['trades_payable', 'trades_receivable', 'working_capital']"
      ]
     },
     "execution_count": 6,
     "metadata": {},
     "output_type": "execute_result"
    }
   ],
   "source": [
    "db = SQLDatabase(engine)\n",
    "db.get_usable_table_names()"
   ]
  }
 ],
 "metadata": {
  "kernelspec": {
   "display_name": "superagent_finance_env",
   "language": "python",
   "name": "python3"
  },
  "language_info": {
   "codemirror_mode": {
    "name": "ipython",
    "version": 3
   },
   "file_extension": ".py",
   "mimetype": "text/x-python",
   "name": "python",
   "nbconvert_exporter": "python",
   "pygments_lexer": "ipython3",
   "version": "3.13.1"
  }
 },
 "nbformat": 4,
 "nbformat_minor": 5
}
