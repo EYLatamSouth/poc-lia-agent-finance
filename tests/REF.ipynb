{
 "cells": [
  {
   "cell_type": "markdown",
   "metadata": {},
   "source": [
    "## Libs"
   ]
  },
  {
   "cell_type": "code",
   "execution_count": 2,
   "metadata": {},
   "outputs": [],
   "source": [
    "import pandas as pd\n",
    "import random\n",
    "import warnings\n",
    "\n",
    "warnings.filterwarnings('ignore')"
   ]
  },
  {
   "cell_type": "markdown",
   "metadata": {},
   "source": [
    "## Dados"
   ]
  },
  {
   "cell_type": "code",
   "execution_count": 3,
   "metadata": {},
   "outputs": [
    {
     "data": {
      "text/html": [
       "<div>\n",
       "<style scoped>\n",
       "    .dataframe tbody tr th:only-of-type {\n",
       "        vertical-align: middle;\n",
       "    }\n",
       "\n",
       "    .dataframe tbody tr th {\n",
       "        vertical-align: top;\n",
       "    }\n",
       "\n",
       "    .dataframe thead th {\n",
       "        text-align: right;\n",
       "    }\n",
       "</style>\n",
       "<table border=\"1\" class=\"dataframe\">\n",
       "  <thead>\n",
       "    <tr style=\"text-align: right;\">\n",
       "      <th></th>\n",
       "      <th>invoice id</th>\n",
       "      <th>branch</th>\n",
       "      <th>city</th>\n",
       "      <th>customer type</th>\n",
       "      <th>gender</th>\n",
       "      <th>product line</th>\n",
       "      <th>unit price</th>\n",
       "      <th>quantity</th>\n",
       "      <th>tax 5%</th>\n",
       "      <th>total</th>\n",
       "      <th>date</th>\n",
       "      <th>time</th>\n",
       "      <th>payment</th>\n",
       "      <th>cogs</th>\n",
       "      <th>gross margin percentage</th>\n",
       "      <th>gross income</th>\n",
       "      <th>rating</th>\n",
       "    </tr>\n",
       "  </thead>\n",
       "  <tbody>\n",
       "    <tr>\n",
       "      <th>0</th>\n",
       "      <td>750-67-8428</td>\n",
       "      <td>A</td>\n",
       "      <td>Yangon</td>\n",
       "      <td>Member</td>\n",
       "      <td>Female</td>\n",
       "      <td>Health and beauty</td>\n",
       "      <td>74.69</td>\n",
       "      <td>7</td>\n",
       "      <td>26.1415</td>\n",
       "      <td>548.9715</td>\n",
       "      <td>1/5/2019</td>\n",
       "      <td>13:08</td>\n",
       "      <td>Ewallet</td>\n",
       "      <td>522.83</td>\n",
       "      <td>4.761905</td>\n",
       "      <td>26.1415</td>\n",
       "      <td>9.1</td>\n",
       "    </tr>\n",
       "    <tr>\n",
       "      <th>1</th>\n",
       "      <td>226-31-3081</td>\n",
       "      <td>C</td>\n",
       "      <td>Naypyitaw</td>\n",
       "      <td>Normal</td>\n",
       "      <td>Female</td>\n",
       "      <td>Electronic accessories</td>\n",
       "      <td>15.28</td>\n",
       "      <td>5</td>\n",
       "      <td>3.8200</td>\n",
       "      <td>80.2200</td>\n",
       "      <td>3/8/2019</td>\n",
       "      <td>10:29</td>\n",
       "      <td>Cash</td>\n",
       "      <td>76.40</td>\n",
       "      <td>4.761905</td>\n",
       "      <td>3.8200</td>\n",
       "      <td>9.6</td>\n",
       "    </tr>\n",
       "    <tr>\n",
       "      <th>2</th>\n",
       "      <td>631-41-3108</td>\n",
       "      <td>A</td>\n",
       "      <td>Yangon</td>\n",
       "      <td>Normal</td>\n",
       "      <td>Male</td>\n",
       "      <td>Home and lifestyle</td>\n",
       "      <td>46.33</td>\n",
       "      <td>7</td>\n",
       "      <td>16.2155</td>\n",
       "      <td>340.5255</td>\n",
       "      <td>3/3/2019</td>\n",
       "      <td>13:23</td>\n",
       "      <td>Credit card</td>\n",
       "      <td>324.31</td>\n",
       "      <td>4.761905</td>\n",
       "      <td>16.2155</td>\n",
       "      <td>7.4</td>\n",
       "    </tr>\n",
       "    <tr>\n",
       "      <th>3</th>\n",
       "      <td>123-19-1176</td>\n",
       "      <td>A</td>\n",
       "      <td>Yangon</td>\n",
       "      <td>Member</td>\n",
       "      <td>Male</td>\n",
       "      <td>Health and beauty</td>\n",
       "      <td>58.22</td>\n",
       "      <td>8</td>\n",
       "      <td>23.2880</td>\n",
       "      <td>489.0480</td>\n",
       "      <td>1/27/2019</td>\n",
       "      <td>20:33</td>\n",
       "      <td>Ewallet</td>\n",
       "      <td>465.76</td>\n",
       "      <td>4.761905</td>\n",
       "      <td>23.2880</td>\n",
       "      <td>8.4</td>\n",
       "    </tr>\n",
       "    <tr>\n",
       "      <th>4</th>\n",
       "      <td>373-73-7910</td>\n",
       "      <td>A</td>\n",
       "      <td>Yangon</td>\n",
       "      <td>Normal</td>\n",
       "      <td>Male</td>\n",
       "      <td>Sports and travel</td>\n",
       "      <td>86.31</td>\n",
       "      <td>7</td>\n",
       "      <td>30.2085</td>\n",
       "      <td>634.3785</td>\n",
       "      <td>2/8/2019</td>\n",
       "      <td>10:37</td>\n",
       "      <td>Ewallet</td>\n",
       "      <td>604.17</td>\n",
       "      <td>4.761905</td>\n",
       "      <td>30.2085</td>\n",
       "      <td>5.3</td>\n",
       "    </tr>\n",
       "    <tr>\n",
       "      <th>5</th>\n",
       "      <td>699-14-3026</td>\n",
       "      <td>C</td>\n",
       "      <td>Naypyitaw</td>\n",
       "      <td>Normal</td>\n",
       "      <td>Male</td>\n",
       "      <td>Electronic accessories</td>\n",
       "      <td>85.39</td>\n",
       "      <td>7</td>\n",
       "      <td>29.8865</td>\n",
       "      <td>627.6165</td>\n",
       "      <td>3/25/2019</td>\n",
       "      <td>18:30</td>\n",
       "      <td>Ewallet</td>\n",
       "      <td>597.73</td>\n",
       "      <td>4.761905</td>\n",
       "      <td>29.8865</td>\n",
       "      <td>4.1</td>\n",
       "    </tr>\n",
       "    <tr>\n",
       "      <th>6</th>\n",
       "      <td>355-53-5943</td>\n",
       "      <td>A</td>\n",
       "      <td>Yangon</td>\n",
       "      <td>Member</td>\n",
       "      <td>Female</td>\n",
       "      <td>Electronic accessories</td>\n",
       "      <td>68.84</td>\n",
       "      <td>6</td>\n",
       "      <td>20.6520</td>\n",
       "      <td>433.6920</td>\n",
       "      <td>2/25/2019</td>\n",
       "      <td>14:36</td>\n",
       "      <td>Ewallet</td>\n",
       "      <td>413.04</td>\n",
       "      <td>4.761905</td>\n",
       "      <td>20.6520</td>\n",
       "      <td>5.8</td>\n",
       "    </tr>\n",
       "  </tbody>\n",
       "</table>\n",
       "</div>"
      ],
      "text/plain": [
       "    invoice id branch       city customer type  gender  \\\n",
       "0  750-67-8428      A     Yangon        Member  Female   \n",
       "1  226-31-3081      C  Naypyitaw        Normal  Female   \n",
       "2  631-41-3108      A     Yangon        Normal    Male   \n",
       "3  123-19-1176      A     Yangon        Member    Male   \n",
       "4  373-73-7910      A     Yangon        Normal    Male   \n",
       "5  699-14-3026      C  Naypyitaw        Normal    Male   \n",
       "6  355-53-5943      A     Yangon        Member  Female   \n",
       "\n",
       "             product line  unit price  quantity   tax 5%     total       date  \\\n",
       "0       Health and beauty       74.69         7  26.1415  548.9715   1/5/2019   \n",
       "1  Electronic accessories       15.28         5   3.8200   80.2200   3/8/2019   \n",
       "2      Home and lifestyle       46.33         7  16.2155  340.5255   3/3/2019   \n",
       "3       Health and beauty       58.22         8  23.2880  489.0480  1/27/2019   \n",
       "4       Sports and travel       86.31         7  30.2085  634.3785   2/8/2019   \n",
       "5  Electronic accessories       85.39         7  29.8865  627.6165  3/25/2019   \n",
       "6  Electronic accessories       68.84         6  20.6520  433.6920  2/25/2019   \n",
       "\n",
       "    time      payment    cogs  gross margin percentage  gross income  rating  \n",
       "0  13:08      Ewallet  522.83                 4.761905       26.1415     9.1  \n",
       "1  10:29         Cash   76.40                 4.761905        3.8200     9.6  \n",
       "2  13:23  Credit card  324.31                 4.761905       16.2155     7.4  \n",
       "3  20:33      Ewallet  465.76                 4.761905       23.2880     8.4  \n",
       "4  10:37      Ewallet  604.17                 4.761905       30.2085     5.3  \n",
       "5  18:30      Ewallet  597.73                 4.761905       29.8865     4.1  \n",
       "6  14:36      Ewallet  413.04                 4.761905       20.6520     5.8  "
      ]
     },
     "execution_count": 3,
     "metadata": {},
     "output_type": "execute_result"
    }
   ],
   "source": [
    "df = pd.read_csv(\"docs/supermarket_v2.csv\")\n",
    "df = df[[column for column in df.columns if \"nnamed\" not in column]]\n",
    "df.head(7)"
   ]
  },
  {
   "cell_type": "code",
   "execution_count": 4,
   "metadata": {},
   "outputs": [
    {
     "data": {
      "text/plain": [
       "np.float64(24748.815000000002)"
      ]
     },
     "execution_count": 4,
     "metadata": {},
     "output_type": "execute_result"
    }
   ],
   "source": [
    "hb = df.loc[df[\"product line\"]==\"Health and beauty\"].copy()\n",
    "hb[\"total\"].sum()"
   ]
  },
  {
   "cell_type": "code",
   "execution_count": 5,
   "metadata": {},
   "outputs": [],
   "source": [
    "dict_df = {}\n",
    "i = 0\n",
    "for pl in df[\"product line\"].unique():\n",
    "    df_local = df.loc[df[\"product line\"]==pl].copy()\n",
    "    grouped_value = df_local[\"total\"].sum()\n",
    "    dict_df[i] = {\"Product line\":pl, \"Grouped Value\":grouped_value}\n",
    "    i+= 1"
   ]
  },
  {
   "cell_type": "code",
   "execution_count": 6,
   "metadata": {},
   "outputs": [
    {
     "data": {
      "text/html": [
       "<div>\n",
       "<style scoped>\n",
       "    .dataframe tbody tr th:only-of-type {\n",
       "        vertical-align: middle;\n",
       "    }\n",
       "\n",
       "    .dataframe tbody tr th {\n",
       "        vertical-align: top;\n",
       "    }\n",
       "\n",
       "    .dataframe thead th {\n",
       "        text-align: right;\n",
       "    }\n",
       "</style>\n",
       "<table border=\"1\" class=\"dataframe\">\n",
       "  <thead>\n",
       "    <tr style=\"text-align: right;\">\n",
       "      <th></th>\n",
       "      <th>Product line</th>\n",
       "      <th>Grouped Value</th>\n",
       "    </tr>\n",
       "  </thead>\n",
       "  <tbody>\n",
       "    <tr>\n",
       "      <th>0</th>\n",
       "      <td>Health and beauty</td>\n",
       "      <td>24748.815</td>\n",
       "    </tr>\n",
       "    <tr>\n",
       "      <th>1</th>\n",
       "      <td>Electronic accessories</td>\n",
       "      <td>25478.0925</td>\n",
       "    </tr>\n",
       "    <tr>\n",
       "      <th>2</th>\n",
       "      <td>Home and lifestyle</td>\n",
       "      <td>28487.025</td>\n",
       "    </tr>\n",
       "    <tr>\n",
       "      <th>3</th>\n",
       "      <td>Sports and travel</td>\n",
       "      <td>30078.1845</td>\n",
       "    </tr>\n",
       "    <tr>\n",
       "      <th>4</th>\n",
       "      <td>Food and beverages</td>\n",
       "      <td>28327.9185</td>\n",
       "    </tr>\n",
       "    <tr>\n",
       "      <th>5</th>\n",
       "      <td>Fashion accessories</td>\n",
       "      <td>27877.815</td>\n",
       "    </tr>\n",
       "  </tbody>\n",
       "</table>\n",
       "</div>"
      ],
      "text/plain": [
       "             Product line Grouped Value\n",
       "0       Health and beauty     24748.815\n",
       "1  Electronic accessories    25478.0925\n",
       "2      Home and lifestyle     28487.025\n",
       "3       Sports and travel    30078.1845\n",
       "4      Food and beverages    28327.9185\n",
       "5     Fashion accessories     27877.815"
      ]
     },
     "execution_count": 6,
     "metadata": {},
     "output_type": "execute_result"
    }
   ],
   "source": [
    "pd.DataFrame(dict_df).T"
   ]
  },
  {
   "cell_type": "markdown",
   "metadata": {},
   "source": [
    "## Questions - Answers"
   ]
  },
  {
   "cell_type": "code",
   "execution_count": 7,
   "metadata": {},
   "outputs": [],
   "source": [
    "# Pré-processamento\n",
    "df[\"quantity\"] = df[\"quantity\"].astype(float)\n",
    "# Seleção de colunas\n",
    "quantitative_columns = df.select_dtypes(include=['float']).columns\n",
    "other_columns = [column for column in df.columns if column not in quantitative_columns]\n",
    "# Máximo de perguntas para cada padrão\n",
    "max_iter = 20"
   ]
  },
  {
   "cell_type": "markdown",
   "metadata": {},
   "source": [
    "### Standard 0"
   ]
  },
  {
   "cell_type": "markdown",
   "metadata": {},
   "source": [
    "Frequência de elementos."
   ]
  },
  {
   "cell_type": "code",
   "execution_count": 8,
   "metadata": {},
   "outputs": [],
   "source": [
    "# Armazenamento\n",
    "questions_0 = []\n",
    "answers_0 = []\n",
    "# String padrão\n",
    "std_string_0 = \"Which value of QLT_COLUMN_1 column is the FREQUENCY frequent?\" # and what is its median of QTD_COLUMN_1 column?\"\n",
    "# Número de valores\n",
    "n_values = 1\n",
    "# Geração das perguntas e respostas\n",
    "for i in range(max_iter):\n",
    "    # VALORES ESCOLHIDOS\n",
    "    qtd_column = random.sample(list(quantitative_columns), n_values)[0]\n",
    "    qlt_column = random.sample(list(other_columns), n_values)[0]\n",
    "    frequency = random.sample([\"most\", \"less\"], n_values)[0]\n",
    "    # PERGUNTAS\n",
    "    local_string = std_string_0\n",
    "    local_string = local_string.replace(\"QLT_COLUMN_1\", qlt_column)\n",
    "    local_string = local_string.replace(\"FREQUENCY\", frequency)\n",
    "    local_string = local_string.replace(\"QTD_COLUMN_1\", qtd_column)\n",
    "    questions_0.append(local_string)\n",
    "    # RESPOSTAS\n",
    "    df_freq = pd.DataFrame(df[qlt_column].value_counts()).reset_index()\n",
    "    if (df_freq.iloc[0][-1] == df_freq.iloc[-1][-1]):\n",
    "        res = \"Não existe diferença entre as frequências, todos os valores são únicos.\"\n",
    "    else:\n",
    "        if (frequency==\"most\"):\n",
    "            col_value = df_freq.iloc[0][0]\n",
    "        else:\n",
    "            col_value = df_freq.iloc[-1][0]\n",
    "        # res = df.loc[(df[qlt_column] == col_value)][qtd_column].median()\n",
    "        res = col_value\n",
    "    answers_0.append(res)"
   ]
  },
  {
   "cell_type": "code",
   "execution_count": 9,
   "metadata": {},
   "outputs": [
    {
     "data": {
      "text/plain": [
       "['Which value of customer type column is the most frequent?',\n",
       " 'Which value of time column is the less frequent?',\n",
       " 'Which value of payment column is the less frequent?',\n",
       " 'Which value of date column is the less frequent?',\n",
       " 'Which value of product line column is the less frequent?',\n",
       " 'Which value of invoice id column is the less frequent?',\n",
       " 'Which value of time column is the most frequent?',\n",
       " 'Which value of payment column is the less frequent?',\n",
       " 'Which value of city column is the less frequent?',\n",
       " 'Which value of invoice id column is the less frequent?',\n",
       " 'Which value of payment column is the less frequent?',\n",
       " 'Which value of branch column is the less frequent?',\n",
       " 'Which value of time column is the less frequent?',\n",
       " 'Which value of payment column is the less frequent?',\n",
       " 'Which value of gender column is the most frequent?',\n",
       " 'Which value of payment column is the less frequent?',\n",
       " 'Which value of branch column is the less frequent?',\n",
       " 'Which value of product line column is the most frequent?',\n",
       " 'Which value of date column is the less frequent?',\n",
       " 'Which value of branch column is the less frequent?']"
      ]
     },
     "execution_count": 9,
     "metadata": {},
     "output_type": "execute_result"
    }
   ],
   "source": [
    "questions_0"
   ]
  },
  {
   "cell_type": "markdown",
   "metadata": {},
   "source": [
    "### Standard 1"
   ]
  },
  {
   "cell_type": "markdown",
   "metadata": {},
   "source": [
    "Soma de coluna quantitativa após aplicação de 1 filtro nos dados."
   ]
  },
  {
   "cell_type": "code",
   "execution_count": 10,
   "metadata": {},
   "outputs": [],
   "source": [
    "# Armazenamento\n",
    "questions_1 = []\n",
    "answers_1 = []\n",
    "# String padrão\n",
    "std_string_1 = \"Looking for the occurrences of the data where OTHER_COLUMN is VALUE, what is the sum of QUANTITATIVE?\"\n",
    "# Número de valores\n",
    "n_values = 1\n",
    "# Geração das perguntas e respostas\n",
    "for i in range(max_iter):\n",
    "    # VALORES ESCOLHIDOS\n",
    "    qtd_column = random.sample(list(quantitative_columns), n_values)[0]\n",
    "    qlt_column = random.sample(list(other_columns), n_values)[0]\n",
    "    col_value = random.sample(list(df[qlt_column].unique()), n_values)[0]\n",
    "    # PERGUNTAS\n",
    "    local_string = std_string_1\n",
    "    local_string = local_string.replace(\"QUANTITATIVE\", qtd_column)\n",
    "    local_string = local_string.replace(\"OTHER_COLUMN\", qlt_column)\n",
    "    local_string = local_string.replace(\"VALUE\", str(col_value))\n",
    "    questions_1.append(local_string)\n",
    "    # RESPOSTAS\n",
    "    res = df.loc[(df[qlt_column] == col_value)][qtd_column].sum()\n",
    "    answers_1.append(res)"
   ]
  },
  {
   "cell_type": "code",
   "execution_count": 11,
   "metadata": {},
   "outputs": [
    {
     "data": {
      "text/plain": [
       "['Looking for the occurrences of the data where time is 20:51, what is the sum of gross margin percentage?',\n",
       " 'Looking for the occurrences of the data where branch is A, what is the sum of total?',\n",
       " 'Looking for the occurrences of the data where time is 19:17, what is the sum of gross income?',\n",
       " 'Looking for the occurrences of the data where city is Naypyitaw, what is the sum of total?',\n",
       " 'Looking for the occurrences of the data where product line is Food and beverages, what is the sum of unit price?',\n",
       " 'Looking for the occurrences of the data where payment is Ewallet, what is the sum of rating?',\n",
       " 'Looking for the occurrences of the data where invoice id is 225-32-0908, what is the sum of cogs?',\n",
       " 'Looking for the occurrences of the data where customer type is Member, what is the sum of gross margin percentage?',\n",
       " 'Looking for the occurrences of the data where time is 19:07, what is the sum of gross margin percentage?',\n",
       " 'Looking for the occurrences of the data where date is 2/7/2019, what is the sum of gross income?',\n",
       " 'Looking for the occurrences of the data where product line is Sports and travel, what is the sum of gross income?',\n",
       " 'Looking for the occurrences of the data where payment is Ewallet, what is the sum of total?',\n",
       " 'Looking for the occurrences of the data where invoice id is 566-71-1091, what is the sum of gross margin percentage?',\n",
       " 'Looking for the occurrences of the data where payment is Ewallet, what is the sum of gross income?',\n",
       " 'Looking for the occurrences of the data where invoice id is 477-24-6490, what is the sum of gross margin percentage?',\n",
       " 'Looking for the occurrences of the data where product line is Fashion accessories, what is the sum of cogs?',\n",
       " 'Looking for the occurrences of the data where invoice id is 162-48-8011, what is the sum of tax 5%?',\n",
       " 'Looking for the occurrences of the data where city is Mandalay, what is the sum of gross margin percentage?',\n",
       " 'Looking for the occurrences of the data where gender is Female, what is the sum of cogs?',\n",
       " 'Looking for the occurrences of the data where date is 1/29/2019, what is the sum of cogs?']"
      ]
     },
     "execution_count": 11,
     "metadata": {},
     "output_type": "execute_result"
    }
   ],
   "source": [
    "questions_1"
   ]
  },
  {
   "cell_type": "code",
   "execution_count": 23,
   "metadata": {},
   "outputs": [
    {
     "data": {
      "text/plain": [
       "[np.float64(4.761904762),\n",
       " np.float64(53478.3585),\n",
       " np.float64(33.542),\n",
       " np.float64(58810.29000000001),\n",
       " np.float64(4669.75),\n",
       " np.float64(1116.8),\n",
       " np.float64(448.6),\n",
       " np.float64(1147.6190476420002),\n",
       " np.float64(9.523809524),\n",
       " np.float64(141.51500000000001),\n",
       " np.float64(1432.2944999999997),\n",
       " np.float64(53677.9845),\n",
       " np.float64(4.761904762),\n",
       " np.float64(2556.0944999999997),\n",
       " np.float64(4.761904762),\n",
       " np.float64(26550.3),\n",
       " np.float64(11.1475),\n",
       " np.float64(752.3809523959999),\n",
       " np.float64(80787.91),\n",
       " np.float64(1285.62)]"
      ]
     },
     "execution_count": 23,
     "metadata": {},
     "output_type": "execute_result"
    }
   ],
   "source": [
    "answers_1"
   ]
  },
  {
   "cell_type": "markdown",
   "metadata": {},
   "source": [
    "### Standard 2"
   ]
  },
  {
   "cell_type": "markdown",
   "metadata": {},
   "source": [
    "Média de coluna quantitativa após aplicação de 2 filtros nos dados."
   ]
  },
  {
   "cell_type": "code",
   "execution_count": 13,
   "metadata": {},
   "outputs": [],
   "source": [
    "# Armazenamento\n",
    "questions_2 = []\n",
    "answers_2 = []\n",
    "# Seleção de colunas\n",
    "quantitative_columns = df.select_dtypes(include=['float']).columns\n",
    "other_columns = [column for column in df.columns if column not in quantitative_columns]\n",
    "\n",
    "# String padrão\n",
    "std_string_1 = \"Looking for the occurrences of the data where QLT_COLUMN_1 is VALUE_1 and where QLT_COLUMN_2 is VALUE_2, what is the mean of QUANTITATIVE?\"\n",
    "# Número de valores\n",
    "n_values = 1\n",
    "# Geração das perguntas e respostas\n",
    "for i in range(max_iter):\n",
    "    # VALORES ESCOLHIDOS\n",
    "    qtd_column = random.sample(list(quantitative_columns), n_values)[0]\n",
    "    qlt_column_1 = random.sample(list(other_columns), n_values)[0]\n",
    "    qlt_column_2 = random.sample([x for x in list(other_columns) if x != qlt_column_1], n_values)[0]\n",
    "    col_value_1 = random.sample(list(df[qlt_column_1].unique()), n_values)[0]\n",
    "    col_value_2 =random.sample(list(df[qlt_column_2].unique()), n_values)[0]\n",
    "    # PERGUNTAS\n",
    "    local_string = std_string_1\n",
    "    local_string = local_string.replace(\"QUANTITATIVE\", qtd_column)\n",
    "    local_string = local_string.replace(\"QLT_COLUMN_1\", qlt_column_1)\n",
    "    local_string = local_string.replace(\"QLT_COLUMN_2\", qlt_column_2)\n",
    "    local_string = local_string.replace(\"VALUE_1\", str(col_value_1))\n",
    "    local_string = local_string.replace(\"VALUE_2\", str(col_value_2))\n",
    "    questions_2.append(local_string)\n",
    "    # RESPOSTAS\n",
    "    res = df.loc[(df[qlt_column_1] == col_value_1) &(df[qlt_column_2]==col_value_2) ][qtd_column].mean()\n",
    "    answers_2.append(res)"
   ]
  },
  {
   "cell_type": "code",
   "execution_count": 21,
   "metadata": {},
   "outputs": [
    {
     "data": {
      "text/plain": [
       "['Looking for the occurrences of the data where branch is C and where time is 11:49, what is the mean of quantity?',\n",
       " 'Looking for the occurrences of the data where time is 11:06 and where payment is Credit card, what is the mean of rating?',\n",
       " 'Looking for the occurrences of the data where date is 1/22/2019 and where invoice id is 307-85-2293, what is the mean of rating?',\n",
       " 'Looking for the occurrences of the data where date is 1/22/2019 and where branch is C, what is the mean of unit price?',\n",
       " 'Looking for the occurrences of the data where branch is B and where time is 13:42, what is the mean of tax 5%?',\n",
       " 'Looking for the occurrences of the data where branch is C and where product line is Fashion accessories, what is the mean of tax 5%?',\n",
       " 'Looking for the occurrences of the data where date is 1/6/2019 and where customer type is Normal, what is the mean of cogs?',\n",
       " 'Looking for the occurrences of the data where invoice id is 512-98-1403 and where city is Naypyitaw, what is the mean of cogs?',\n",
       " 'Looking for the occurrences of the data where branch is C and where date is 3/10/2019, what is the mean of gross income?',\n",
       " 'Looking for the occurrences of the data where time is 12:29 and where date is 3/5/2019, what is the mean of gross margin percentage?',\n",
       " 'Looking for the occurrences of the data where date is 1/5/2019 and where payment is Cash, what is the mean of tax 5%?',\n",
       " 'Looking for the occurrences of the data where city is Yangon and where product line is Fashion accessories, what is the mean of unit price?',\n",
       " 'Looking for the occurrences of the data where payment is Ewallet and where time is 18:36, what is the mean of total?',\n",
       " 'Looking for the occurrences of the data where product line is Home and lifestyle and where customer type is Member, what is the mean of unit price?',\n",
       " 'Looking for the occurrences of the data where city is Mandalay and where branch is B, what is the mean of rating?',\n",
       " 'Looking for the occurrences of the data where branch is A and where gender is Female, what is the mean of cogs?',\n",
       " 'Looking for the occurrences of the data where date is 3/23/2019 and where product line is Sports and travel, what is the mean of rating?',\n",
       " 'Looking for the occurrences of the data where time is 17:58 and where branch is A, what is the mean of quantity?',\n",
       " 'Looking for the occurrences of the data where customer type is Member and where product line is Food and beverages, what is the mean of rating?',\n",
       " 'Looking for the occurrences of the data where gender is Female and where invoice id is 817-69-8206, what is the mean of rating?']"
      ]
     },
     "execution_count": 21,
     "metadata": {},
     "output_type": "execute_result"
    }
   ],
   "source": [
    "questions_2"
   ]
  },
  {
   "cell_type": "code",
   "execution_count": 22,
   "metadata": {},
   "outputs": [
    {
     "data": {
      "text/plain": [
       "[nan,\n",
       " np.float64(4.8),\n",
       " nan,\n",
       " np.float64(50.945),\n",
       " nan,\n",
       " np.float64(16.387666666666668),\n",
       " np.float64(360.39000000000004),\n",
       " nan,\n",
       " np.float64(6.861),\n",
       " np.float64(4.761904762),\n",
       " np.float64(12.53),\n",
       " np.float64(62.45875),\n",
       " nan,\n",
       " np.float64(57.031904761904755),\n",
       " np.float64(6.8107594936708855),\n",
       " np.float64(319.16154929577465),\n",
       " np.float64(8.0),\n",
       " nan,\n",
       " np.float64(7.342499999999999),\n",
       " np.float64(6.5)]"
      ]
     },
     "execution_count": 22,
     "metadata": {},
     "output_type": "execute_result"
    }
   ],
   "source": [
    "answers_2"
   ]
  },
  {
   "cell_type": "markdown",
   "metadata": {},
   "source": [
    "### Standard 3"
   ]
  },
  {
   "cell_type": "markdown",
   "metadata": {},
   "source": [
    "Comparação entre somas por categoria."
   ]
  },
  {
   "cell_type": "code",
   "execution_count": 16,
   "metadata": {},
   "outputs": [],
   "source": [
    "# Armazenamento\n",
    "questions_3 = []\n",
    "answers_3 = []\n",
    "# String padrão\n",
    "std_string_0 = \"Which QLT_COLUMN_1 has the LEVEL total of QTD_COLUMN_1?\"\n",
    "# Número de valores\n",
    "n_values = 1\n",
    "# Geração das perguntas e respostas\n",
    "for i in range(max_iter):\n",
    "    # VALORES ESCOLHIDOS\n",
    "    qtd_column = random.sample(list(quantitative_columns), n_values)[0]\n",
    "    qlt_column = random.sample(list(other_columns), n_values)[0]\n",
    "    level = random.sample([\"highest\", \"lowest\"], n_values)[0]\n",
    "    # PERGUNTAS\n",
    "    local_string = std_string_0\n",
    "    local_string = local_string.replace(\"QLT_COLUMN_1\", qlt_column)\n",
    "    local_string = local_string.replace(\"LEVEL\", level)\n",
    "    local_string = local_string.replace(\"QTD_COLUMN_1\", qtd_column)\n",
    "    questions_3.append(local_string)\n",
    "    # RESPOSTAS\n",
    "    choosen_value = None\n",
    "    choosen_sum = 0\n",
    "    for value in df[qlt_column].unique():\n",
    "        sum_value = df.loc[df[qlt_column]==value][qtd_column].sum()\n",
    "        if (choosen_value == None):\n",
    "            choosen_value = value\n",
    "            choosen_sum = sum_value\n",
    "        else:\n",
    "            if (level==\"lowest\"):\n",
    "                if (sum_value < choosen_sum):\n",
    "                    choosen_sum = sum_value\n",
    "                    choosen_value = value\n",
    "            elif (level==\"highest\"):\n",
    "                if (sum_value > choosen_sum):\n",
    "                    choosen_sum = sum_value\n",
    "                    choosen_value = value\n",
    "    res = f\"The {qlt_column} with the {level} {qtd_column} is {choosen_value} with {choosen_sum}\"\n",
    "    answers_3.append(res)"
   ]
  },
  {
   "cell_type": "code",
   "execution_count": 17,
   "metadata": {},
   "outputs": [
    {
     "data": {
      "text/plain": [
       "['Which invoice id has the highest total of quantity?',\n",
       " 'Which customer type has the lowest total of gross income?',\n",
       " 'Which invoice id has the highest total of total?',\n",
       " 'Which date has the lowest total of quantity?',\n",
       " 'Which product line has the lowest total of unit price?',\n",
       " 'Which invoice id has the lowest total of total?',\n",
       " 'Which branch has the lowest total of unit price?',\n",
       " 'Which product line has the lowest total of quantity?',\n",
       " 'Which customer type has the lowest total of quantity?',\n",
       " 'Which product line has the lowest total of cogs?',\n",
       " 'Which branch has the lowest total of rating?',\n",
       " 'Which customer type has the highest total of tax 5%?',\n",
       " 'Which date has the highest total of gross income?',\n",
       " 'Which gender has the lowest total of gross margin percentage?',\n",
       " 'Which time has the lowest total of rating?',\n",
       " 'Which time has the lowest total of gross income?',\n",
       " 'Which payment has the lowest total of total?',\n",
       " 'Which payment has the lowest total of cogs?',\n",
       " 'Which date has the highest total of unit price?',\n",
       " 'Which time has the lowest total of rating?']"
      ]
     },
     "execution_count": 17,
     "metadata": {},
     "output_type": "execute_result"
    }
   ],
   "source": [
    "questions_3"
   ]
  },
  {
   "cell_type": "code",
   "execution_count": 18,
   "metadata": {},
   "outputs": [],
   "source": [
    "# for value in df[\"customer type\"].unique():\n",
    "#     sum_value = df.loc[df[\"customer type\"]==value][\"gross income\"].sum()\n",
    "#     print(value, sum_value)"
   ]
  },
  {
   "cell_type": "code",
   "execution_count": 20,
   "metadata": {},
   "outputs": [
    {
     "data": {
      "text/plain": [
       "['The invoice id with the highest quantity is 315-22-5665 with 10.0',\n",
       " 'The customer type with the lowest gross income is Member with 3921.7829999999994',\n",
       " 'The invoice id with the highest total is 860-79-0874 with 1042.65',\n",
       " 'The date with the lowest quantity is 2/19/2019 with 4.0',\n",
       " 'The product line with the lowest unit price is Health and beauty with 4157.75',\n",
       " 'The invoice id with the lowest total is 279-62-1445 with 13.167',\n",
       " 'The branch with the lowest unit price is B with 8813.28',\n",
       " 'The product line with the lowest quantity is Health and beauty with 442.0',\n",
       " 'The customer type with the lowest quantity is Member with 1410.0',\n",
       " 'The product line with the lowest cogs is Health and beauty with 23570.300000000003',\n",
       " 'The branch with the lowest rating is B with 1076.1',\n",
       " 'The customer type with the highest tax 5% is Normal with 3935.2575',\n",
       " 'The date with the highest gross income is 3/9/2019 with 237.7625',\n",
       " 'The gender with the lowest gross margin percentage is Female with 1171.428571452',\n",
       " 'The time with the lowest rating is 14:31 with 4.0',\n",
       " 'The time with the lowest gross income is 14:11 with 0.639',\n",
       " 'The payment with the lowest total is Credit card with 50110.704',\n",
       " 'The payment with the lowest cogs is Credit card with 47724.479999999996',\n",
       " 'The date with the highest unit price is 3/9/2019 with 716.5199999999999',\n",
       " 'The time with the lowest rating is 14:31 with 4.0']"
      ]
     },
     "execution_count": 20,
     "metadata": {},
     "output_type": "execute_result"
    }
   ],
   "source": [
    "answers_3"
   ]
  },
  {
   "cell_type": "code",
   "execution_count": 6,
   "metadata": {},
   "outputs": [
    {
     "data": {
      "text/plain": [
       "'Os clientes que estão com contas atrasadas são:\\n\\n- Laura Duarte  \\n- Lucas Barros  \\n- Luana da Costa  \\n- Evelyn Martins  \\n- Ana Vitória Gomes  \\n- Valentina Ramos  \\n- Isis Cavalcanti  \\n- Mariana Silveira  \\n- Daniel Moreira  \\n- Carlos Eduardo Porto  \\n- Sra. Alice da Cunha  \\n- Mariana Gonçalves  \\n- Srta. Raquel Teixeira  \\n- Dr. João Pedro Viana  '"
      ]
     },
     "execution_count": 6,
     "metadata": {},
     "output_type": "execute_result"
    }
   ],
   "source": [
    "import json\n",
    "x = '{\"answer\": \"Os clientes que estão com contas atrasadas são:\\n\\n- Laura Duarte  \\n- Lucas Barros  \\n- Luana da Costa  \\n- Evelyn Martins  \\n- Ana Vitória Gomes  \\n- Valentina Ramos  \\n- Isis Cavalcanti  \\n- Mariana Silveira  \\n- Daniel Moreira  \\n- Carlos Eduardo Porto  \\n- Sra. Alice da Cunha  \\n- Mariana Gonçalves  \\n- Srta. Raquel Teixeira  \\n- Dr. João Pedro Viana  \"}'\n",
    "x = x.replace(\"\\n\", \"\\\\n\")\n",
    "x = json.loads(x)\n",
    "x[\"answer\"]"
   ]
  },
  {
   "cell_type": "code",
   "execution_count": 17,
   "metadata": {},
   "outputs": [],
   "source": [
    "import pandas as pd\n",
    "\n",
    "df = pd.read_excel(\"Docs/contas_receber.xlsx\")\n",
    "df2 = pd.read_excel(\"Docs/clientes.xlsx\")\n",
    "df2 = df2.rename(columns={\"id\":\"cliente_id\"})"
   ]
  },
  {
   "cell_type": "code",
   "execution_count": 18,
   "metadata": {},
   "outputs": [
    {
     "data": {
      "text/html": [
       "<div>\n",
       "<style scoped>\n",
       "    .dataframe tbody tr th:only-of-type {\n",
       "        vertical-align: middle;\n",
       "    }\n",
       "\n",
       "    .dataframe tbody tr th {\n",
       "        vertical-align: top;\n",
       "    }\n",
       "\n",
       "    .dataframe thead th {\n",
       "        text-align: right;\n",
       "    }\n",
       "</style>\n",
       "<table border=\"1\" class=\"dataframe\">\n",
       "  <thead>\n",
       "    <tr style=\"text-align: right;\">\n",
       "      <th></th>\n",
       "      <th>id</th>\n",
       "      <th>cliente_id</th>\n",
       "      <th>valor</th>\n",
       "      <th>vencimento</th>\n",
       "      <th>status</th>\n",
       "    </tr>\n",
       "  </thead>\n",
       "  <tbody>\n",
       "    <tr>\n",
       "      <th>0</th>\n",
       "      <td>1</td>\n",
       "      <td>1</td>\n",
       "      <td>3142.53</td>\n",
       "      <td>2025-03-09</td>\n",
       "      <td>Em aberto</td>\n",
       "    </tr>\n",
       "    <tr>\n",
       "      <th>1</th>\n",
       "      <td>2</td>\n",
       "      <td>90</td>\n",
       "      <td>535.29</td>\n",
       "      <td>2025-03-01</td>\n",
       "      <td>Em aberto</td>\n",
       "    </tr>\n",
       "    <tr>\n",
       "      <th>2</th>\n",
       "      <td>3</td>\n",
       "      <td>5</td>\n",
       "      <td>2295.41</td>\n",
       "      <td>2025-03-28</td>\n",
       "      <td>Em aberto</td>\n",
       "    </tr>\n",
       "    <tr>\n",
       "      <th>3</th>\n",
       "      <td>4</td>\n",
       "      <td>4</td>\n",
       "      <td>659.01</td>\n",
       "      <td>2025-03-28</td>\n",
       "      <td>Pago</td>\n",
       "    </tr>\n",
       "    <tr>\n",
       "      <th>4</th>\n",
       "      <td>5</td>\n",
       "      <td>57</td>\n",
       "      <td>2176.81</td>\n",
       "      <td>2025-04-09</td>\n",
       "      <td>Atrasado</td>\n",
       "    </tr>\n",
       "  </tbody>\n",
       "</table>\n",
       "</div>"
      ],
      "text/plain": [
       "   id  cliente_id    valor  vencimento     status\n",
       "0   1           1  3142.53  2025-03-09  Em aberto\n",
       "1   2          90   535.29  2025-03-01  Em aberto\n",
       "2   3           5  2295.41  2025-03-28  Em aberto\n",
       "3   4           4   659.01  2025-03-28       Pago\n",
       "4   5          57  2176.81  2025-04-09   Atrasado"
      ]
     },
     "execution_count": 18,
     "metadata": {},
     "output_type": "execute_result"
    }
   ],
   "source": [
    "df.head()"
   ]
  },
  {
   "cell_type": "code",
   "execution_count": 19,
   "metadata": {},
   "outputs": [
    {
     "data": {
      "text/html": [
       "<div>\n",
       "<style scoped>\n",
       "    .dataframe tbody tr th:only-of-type {\n",
       "        vertical-align: middle;\n",
       "    }\n",
       "\n",
       "    .dataframe tbody tr th {\n",
       "        vertical-align: top;\n",
       "    }\n",
       "\n",
       "    .dataframe thead th {\n",
       "        text-align: right;\n",
       "    }\n",
       "</style>\n",
       "<table border=\"1\" class=\"dataframe\">\n",
       "  <thead>\n",
       "    <tr style=\"text-align: right;\">\n",
       "      <th></th>\n",
       "      <th>cliente_id</th>\n",
       "      <th>nome</th>\n",
       "    </tr>\n",
       "  </thead>\n",
       "  <tbody>\n",
       "    <tr>\n",
       "      <th>0</th>\n",
       "      <td>1</td>\n",
       "      <td>Laura Duarte</td>\n",
       "    </tr>\n",
       "    <tr>\n",
       "      <th>1</th>\n",
       "      <td>2</td>\n",
       "      <td>Maria Luiza Freitas</td>\n",
       "    </tr>\n",
       "    <tr>\n",
       "      <th>2</th>\n",
       "      <td>3</td>\n",
       "      <td>Luiz Gustavo Araújo</td>\n",
       "    </tr>\n",
       "    <tr>\n",
       "      <th>3</th>\n",
       "      <td>4</td>\n",
       "      <td>Maria Clara Pinto</td>\n",
       "    </tr>\n",
       "    <tr>\n",
       "      <th>4</th>\n",
       "      <td>5</td>\n",
       "      <td>Luana da Costa</td>\n",
       "    </tr>\n",
       "  </tbody>\n",
       "</table>\n",
       "</div>"
      ],
      "text/plain": [
       "   cliente_id                 nome\n",
       "0           1         Laura Duarte\n",
       "1           2  Maria Luiza Freitas\n",
       "2           3  Luiz Gustavo Araújo\n",
       "3           4    Maria Clara Pinto\n",
       "4           5       Luana da Costa"
      ]
     },
     "execution_count": 19,
     "metadata": {},
     "output_type": "execute_result"
    }
   ],
   "source": [
    "df2.head()"
   ]
  },
  {
   "cell_type": "code",
   "execution_count": 20,
   "metadata": {},
   "outputs": [
    {
     "name": "stdout",
     "output_type": "stream",
     "text": [
      "id\n",
      "cliente_id\n",
      "valor\n",
      "vencimento\n",
      "status\n"
     ]
    }
   ],
   "source": [
    "for col in df.columns:\n",
    "    print(col)"
   ]
  },
  {
   "cell_type": "code",
   "execution_count": 21,
   "metadata": {},
   "outputs": [
    {
     "data": {
      "text/plain": [
       "False"
      ]
     },
     "execution_count": 21,
     "metadata": {},
     "output_type": "execute_result"
    }
   ],
   "source": [
    "\"client_id\" in df.columns"
   ]
  },
  {
   "cell_type": "code",
   "execution_count": 22,
   "metadata": {},
   "outputs": [],
   "source": [
    "df3 = pd.merge(df, df2, on=\"cliente_id\", how=\"left\")"
   ]
  },
  {
   "cell_type": "code",
   "execution_count": 23,
   "metadata": {},
   "outputs": [
    {
     "data": {
      "text/html": [
       "<div>\n",
       "<style scoped>\n",
       "    .dataframe tbody tr th:only-of-type {\n",
       "        vertical-align: middle;\n",
       "    }\n",
       "\n",
       "    .dataframe tbody tr th {\n",
       "        vertical-align: top;\n",
       "    }\n",
       "\n",
       "    .dataframe thead th {\n",
       "        text-align: right;\n",
       "    }\n",
       "</style>\n",
       "<table border=\"1\" class=\"dataframe\">\n",
       "  <thead>\n",
       "    <tr style=\"text-align: right;\">\n",
       "      <th></th>\n",
       "      <th>id</th>\n",
       "      <th>cliente_id</th>\n",
       "      <th>valor</th>\n",
       "      <th>vencimento</th>\n",
       "      <th>status</th>\n",
       "      <th>nome</th>\n",
       "    </tr>\n",
       "  </thead>\n",
       "  <tbody>\n",
       "    <tr>\n",
       "      <th>99</th>\n",
       "      <td>100</td>\n",
       "      <td>6</td>\n",
       "      <td>2123.63</td>\n",
       "      <td>2025-03-17</td>\n",
       "      <td>Atrasado</td>\n",
       "      <td>Arthur Campos</td>\n",
       "    </tr>\n",
       "  </tbody>\n",
       "</table>\n",
       "</div>"
      ],
      "text/plain": [
       "     id  cliente_id    valor  vencimento    status           nome\n",
       "99  100           6  2123.63  2025-03-17  Atrasado  Arthur Campos"
      ]
     },
     "execution_count": 23,
     "metadata": {},
     "output_type": "execute_result"
    }
   ],
   "source": [
    "df3.loc[df3[\"nome\"]==\"Arthur Campos\"]"
   ]
  },
  {
   "cell_type": "code",
   "execution_count": 24,
   "metadata": {},
   "outputs": [
    {
     "data": {
      "text/plain": [
       "status\n",
       "Atrasado     28\n",
       "Em aberto    25\n",
       "Pago         24\n",
       "Negociado    23\n",
       "Name: count, dtype: int64"
      ]
     },
     "execution_count": 24,
     "metadata": {},
     "output_type": "execute_result"
    }
   ],
   "source": [
    "df3[\"status\"].value_counts()"
   ]
  },
  {
   "cell_type": "code",
   "execution_count": 25,
   "metadata": {},
   "outputs": [
    {
     "data": {
      "text/plain": [
       "nome\n",
       "Lucas Barros           3\n",
       "Luana da Costa         3\n",
       "Ana Vitória Gomes      3\n",
       "Júlia Santos           3\n",
       "Lucas Gabriel Rocha    3\n",
       "                      ..\n",
       "Fernando Nogueira      1\n",
       "Mariana Pinto          1\n",
       "Rafael Carvalho        1\n",
       "Ana Laura Carvalho     1\n",
       "Arthur Campos          1\n",
       "Name: count, Length: 62, dtype: int64"
      ]
     },
     "execution_count": 25,
     "metadata": {},
     "output_type": "execute_result"
    }
   ],
   "source": [
    "df3[\"nome\"].value_counts()"
   ]
  },
  {
   "cell_type": "code",
   "execution_count": null,
   "metadata": {},
   "outputs": [],
   "source": []
  }
 ],
 "metadata": {
  "kernelspec": {
   "display_name": "Python 3",
   "language": "python",
   "name": "python3"
  },
  "language_info": {
   "codemirror_mode": {
    "name": "ipython",
    "version": 3
   },
   "file_extension": ".py",
   "mimetype": "text/x-python",
   "name": "python",
   "nbconvert_exporter": "python",
   "pygments_lexer": "ipython3",
   "version": "3.13.1"
  }
 },
 "nbformat": 4,
 "nbformat_minor": 2
}
